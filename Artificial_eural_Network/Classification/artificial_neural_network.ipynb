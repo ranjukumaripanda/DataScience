{
  "nbformat": 4,
  "nbformat_minor": 0,
  "metadata": {
    "colab": {
      "name": "artificial_neural_network.ipynb",
      "provenance": [],
      "collapsed_sections": []
    },
    "kernelspec": {
      "name": "python3",
      "display_name": "Python 3"
    }
  },
  "cells": [
    {
      "cell_type": "markdown",
      "metadata": {
        "id": "lP6JLo1tGNBg",
        "colab_type": "text"
      },
      "source": [
        "# Artificial Neural Network"
      ]
    },
    {
      "cell_type": "markdown",
      "metadata": {
        "id": "gWZyYmS_UE_L",
        "colab_type": "text"
      },
      "source": [
        "### Importing the libraries"
      ]
    },
    {
      "cell_type": "code",
      "metadata": {
        "id": "MxkJoQBkUIHC",
        "colab_type": "code",
        "colab": {}
      },
      "source": [
        "import numpy as np\n",
        "import pandas as pd\n",
        "import tensorflow as tf"
      ],
      "execution_count": 48,
      "outputs": []
    },
    {
      "cell_type": "code",
      "metadata": {
        "id": "ZaTwK7ojXr2F",
        "colab_type": "code",
        "colab": {
          "base_uri": "https://localhost:8080/",
          "height": 35
        },
        "outputId": "d19ce40b-7757-4cee-a95e-d3ac5c8de700"
      },
      "source": [
        "tf.__version__"
      ],
      "execution_count": 49,
      "outputs": [
        {
          "output_type": "execute_result",
          "data": {
            "application/vnd.google.colaboratory.intrinsic+json": {
              "type": "string"
            },
            "text/plain": [
              "'2.3.0'"
            ]
          },
          "metadata": {
            "tags": []
          },
          "execution_count": 49
        }
      ]
    },
    {
      "cell_type": "markdown",
      "metadata": {
        "id": "1E0Q3aoKUCRX",
        "colab_type": "text"
      },
      "source": [
        "## Part 1 - Data Preprocessing"
      ]
    },
    {
      "cell_type": "markdown",
      "metadata": {
        "id": "cKWAkFVGUU0Z",
        "colab_type": "text"
      },
      "source": [
        "### Importing the dataset"
      ]
    },
    {
      "cell_type": "code",
      "metadata": {
        "id": "L6300QzV9Lyl",
        "colab_type": "code",
        "colab": {}
      },
      "source": [
        "df=pd.read_csv(\"Churn_Modelling.csv\")\n",
        "X=df.iloc[:, 3:-1].values\n",
        "y=df.iloc[:, -1].values"
      ],
      "execution_count": 50,
      "outputs": []
    },
    {
      "cell_type": "code",
      "metadata": {
        "id": "zXraMuan9k1R",
        "colab_type": "code",
        "colab": {
          "base_uri": "https://localhost:8080/",
          "height": 131
        },
        "outputId": "1ac15ced-37f8-4bff-8cee-c171eb4ed546"
      },
      "source": [
        "X"
      ],
      "execution_count": 51,
      "outputs": [
        {
          "output_type": "execute_result",
          "data": {
            "text/plain": [
              "array([[619, 'France', 'Female', ..., 1, 1, 101348.88],\n",
              "       [608, 'Spain', 'Female', ..., 0, 1, 112542.58],\n",
              "       [502, 'France', 'Female', ..., 1, 0, 113931.57],\n",
              "       ...,\n",
              "       [709, 'France', 'Female', ..., 0, 1, 42085.58],\n",
              "       [772, 'Germany', 'Male', ..., 1, 0, 92888.52],\n",
              "       [792, 'France', 'Female', ..., 1, 0, 38190.78]], dtype=object)"
            ]
          },
          "metadata": {
            "tags": []
          },
          "execution_count": 51
        }
      ]
    },
    {
      "cell_type": "code",
      "metadata": {
        "id": "Ux9ceOfa9lDu",
        "colab_type": "code",
        "colab": {
          "base_uri": "https://localhost:8080/",
          "height": 33
        },
        "outputId": "b5eaaa03-8c44-4206-8dad-845ce4128390"
      },
      "source": [
        "y"
      ],
      "execution_count": 52,
      "outputs": [
        {
          "output_type": "execute_result",
          "data": {
            "text/plain": [
              "array([1, 0, 1, ..., 1, 1, 0])"
            ]
          },
          "metadata": {
            "tags": []
          },
          "execution_count": 52
        }
      ]
    },
    {
      "cell_type": "code",
      "metadata": {
        "id": "W4E171t89rrB",
        "colab_type": "code",
        "colab": {
          "base_uri": "https://localhost:8080/",
          "height": 261
        },
        "outputId": "8d18f1cb-b815-442c-b3bc-54ebc0812449"
      },
      "source": [
        "df.isnull().sum()"
      ],
      "execution_count": 53,
      "outputs": [
        {
          "output_type": "execute_result",
          "data": {
            "text/plain": [
              "RowNumber          0\n",
              "CustomerId         0\n",
              "Surname            0\n",
              "CreditScore        0\n",
              "Geography          0\n",
              "Gender             0\n",
              "Age                0\n",
              "Tenure             0\n",
              "Balance            0\n",
              "NumOfProducts      0\n",
              "HasCrCard          0\n",
              "IsActiveMember     0\n",
              "EstimatedSalary    0\n",
              "Exited             0\n",
              "dtype: int64"
            ]
          },
          "metadata": {
            "tags": []
          },
          "execution_count": 53
        }
      ]
    },
    {
      "cell_type": "markdown",
      "metadata": {
        "id": "N6bQ0UgSU-NJ",
        "colab_type": "text"
      },
      "source": [
        "### Encoding categorical data"
      ]
    },
    {
      "cell_type": "markdown",
      "metadata": {
        "id": "le5MJreAbW52",
        "colab_type": "text"
      },
      "source": [
        "Label Encoding the \"Gender\" column"
      ]
    },
    {
      "cell_type": "code",
      "metadata": {
        "id": "j7mPJvtg9ylw",
        "colab_type": "code",
        "colab": {}
      },
      "source": [
        "from sklearn.preprocessing import LabelEncoder\n",
        "le=LabelEncoder()\n",
        "X[:,2]=le.fit_transform(X[:,2])"
      ],
      "execution_count": 54,
      "outputs": []
    },
    {
      "cell_type": "code",
      "metadata": {
        "id": "9V_XIjzm-sSr",
        "colab_type": "code",
        "colab": {
          "base_uri": "https://localhost:8080/",
          "height": 131
        },
        "outputId": "f6577c4e-a486-472d-f71e-b65fc34b5fae"
      },
      "source": [
        "X"
      ],
      "execution_count": 55,
      "outputs": [
        {
          "output_type": "execute_result",
          "data": {
            "text/plain": [
              "array([[619, 'France', 0, ..., 1, 1, 101348.88],\n",
              "       [608, 'Spain', 0, ..., 0, 1, 112542.58],\n",
              "       [502, 'France', 0, ..., 1, 0, 113931.57],\n",
              "       ...,\n",
              "       [709, 'France', 0, ..., 0, 1, 42085.58],\n",
              "       [772, 'Germany', 1, ..., 1, 0, 92888.52],\n",
              "       [792, 'France', 0, ..., 1, 0, 38190.78]], dtype=object)"
            ]
          },
          "metadata": {
            "tags": []
          },
          "execution_count": 55
        }
      ]
    },
    {
      "cell_type": "markdown",
      "metadata": {
        "id": "CUxGZezpbMcb",
        "colab_type": "text"
      },
      "source": [
        "One Hot Encoding the \"Geography\" column"
      ]
    },
    {
      "cell_type": "code",
      "metadata": {
        "id": "0f6iKT0i-rCg",
        "colab_type": "code",
        "colab": {}
      },
      "source": [
        "from sklearn.preprocessing import OneHotEncoder\n",
        "from sklearn.compose import ColumnTransformer\n",
        "ct = ColumnTransformer(transformers=[('encoder', OneHotEncoder(), [1])], remainder='passthrough')\n",
        "X = np.array(ct.fit_transform(X))"
      ],
      "execution_count": 56,
      "outputs": []
    },
    {
      "cell_type": "code",
      "metadata": {
        "id": "GqE21HQD-rZ_",
        "colab_type": "code",
        "colab": {
          "base_uri": "https://localhost:8080/",
          "height": 131
        },
        "outputId": "7439ae7c-88da-4149-813b-41659e765e99"
      },
      "source": [
        "X"
      ],
      "execution_count": 57,
      "outputs": [
        {
          "output_type": "execute_result",
          "data": {
            "text/plain": [
              "array([[1.0, 0.0, 0.0, ..., 1, 1, 101348.88],\n",
              "       [0.0, 0.0, 1.0, ..., 0, 1, 112542.58],\n",
              "       [1.0, 0.0, 0.0, ..., 1, 0, 113931.57],\n",
              "       ...,\n",
              "       [1.0, 0.0, 0.0, ..., 0, 1, 42085.58],\n",
              "       [0.0, 1.0, 0.0, ..., 1, 0, 92888.52],\n",
              "       [1.0, 0.0, 0.0, ..., 1, 0, 38190.78]], dtype=object)"
            ]
          },
          "metadata": {
            "tags": []
          },
          "execution_count": 57
        }
      ]
    },
    {
      "cell_type": "markdown",
      "metadata": {
        "id": "vHol938cW8zd",
        "colab_type": "text"
      },
      "source": [
        "### Splitting the dataset into the Training set and Test set"
      ]
    },
    {
      "cell_type": "code",
      "metadata": {
        "id": "Z9gYkadFALG3",
        "colab_type": "code",
        "colab": {}
      },
      "source": [
        "from sklearn.model_selection import train_test_split\n",
        "X_train, X_test, y_train, y_test = train_test_split(X, y, test_size=0.2, random_state=0)"
      ],
      "execution_count": 58,
      "outputs": []
    },
    {
      "cell_type": "markdown",
      "metadata": {
        "id": "RE_FcHyfV3TQ",
        "colab_type": "text"
      },
      "source": [
        "### Feature Scaling"
      ]
    },
    {
      "cell_type": "code",
      "metadata": {
        "id": "wkx6YJn6A6jV",
        "colab_type": "code",
        "colab": {}
      },
      "source": [
        "from sklearn.preprocessing import StandardScaler\n",
        "sc = StandardScaler()\n",
        "X_train = sc.fit_transform(X_train)\n",
        "X_test = sc.transform(X_test)"
      ],
      "execution_count": 59,
      "outputs": []
    },
    {
      "cell_type": "code",
      "metadata": {
        "id": "_LkpZNjKM3ri",
        "colab_type": "code",
        "colab": {
          "base_uri": "https://localhost:8080/",
          "height": 33
        },
        "outputId": "cdf3704b-cdd5-4888-8f7e-b2e9bd058adf"
      },
      "source": [
        "X_train.shape"
      ],
      "execution_count": 60,
      "outputs": [
        {
          "output_type": "execute_result",
          "data": {
            "text/plain": [
              "(8000, 12)"
            ]
          },
          "metadata": {
            "tags": []
          },
          "execution_count": 60
        }
      ]
    },
    {
      "cell_type": "markdown",
      "metadata": {
        "id": "-zfEzkRVXIwF",
        "colab_type": "text"
      },
      "source": [
        "## Part 2 - Building the ANN"
      ]
    },
    {
      "cell_type": "markdown",
      "metadata": {
        "id": "KvdeScabXtlB",
        "colab_type": "text"
      },
      "source": [
        "### Initializing the ANN"
      ]
    },
    {
      "cell_type": "code",
      "metadata": {
        "id": "jjhwSwsSB1yJ",
        "colab_type": "code",
        "colab": {}
      },
      "source": [
        "ann = tf.keras.models.Sequential()"
      ],
      "execution_count": 61,
      "outputs": []
    },
    {
      "cell_type": "markdown",
      "metadata": {
        "id": "rP6urV6SX7kS",
        "colab_type": "text"
      },
      "source": [
        "### Adding the input layer and the first hidden layer"
      ]
    },
    {
      "cell_type": "code",
      "metadata": {
        "id": "nzgEefn2B2zi",
        "colab_type": "code",
        "colab": {}
      },
      "source": [
        "ann.add(tf.keras.layers.Dense(units=6, activation='relu')) # rectigier artificial function"
      ],
      "execution_count": 62,
      "outputs": []
    },
    {
      "cell_type": "markdown",
      "metadata": {
        "id": "BELWAc_8YJze",
        "colab_type": "text"
      },
      "source": [
        "### Adding the second hidden layer"
      ]
    },
    {
      "cell_type": "code",
      "metadata": {
        "id": "8tISAaJhB3s9",
        "colab_type": "code",
        "colab": {}
      },
      "source": [
        "ann.add(tf.keras.layers.Dense(units=6, activation='relu')) # rectigier artificial function"
      ],
      "execution_count": 63,
      "outputs": []
    },
    {
      "cell_type": "markdown",
      "metadata": {
        "id": "OyNEe6RXYcU4",
        "colab_type": "text"
      },
      "source": [
        "### Adding the output layer"
      ]
    },
    {
      "cell_type": "code",
      "metadata": {
        "id": "XhWmjt3gEEga",
        "colab_type": "code",
        "colab": {}
      },
      "source": [
        "ann.add(tf.keras.layers.Dense(units=1, activation='sigmoid')) # rectigier artificial function"
      ],
      "execution_count": 64,
      "outputs": []
    },
    {
      "cell_type": "markdown",
      "metadata": {
        "id": "JT4u2S1_Y4WG",
        "colab_type": "text"
      },
      "source": [
        "## Part 3 - Training the ANN"
      ]
    },
    {
      "cell_type": "markdown",
      "metadata": {
        "id": "8GWlJChhY_ZI",
        "colab_type": "text"
      },
      "source": [
        "### Compiling the ANN"
      ]
    },
    {
      "cell_type": "code",
      "metadata": {
        "id": "aQCPXwFqFTUX",
        "colab_type": "code",
        "colab": {}
      },
      "source": [
        "ann.compile(optimizer='adam', loss='binary_crossentropy', metrics=['accuracy']) # for non-binary classification, loss=categorical_crossentropy"
      ],
      "execution_count": 65,
      "outputs": []
    },
    {
      "cell_type": "markdown",
      "metadata": {
        "id": "0QR_G5u7ZLSM",
        "colab_type": "text"
      },
      "source": [
        "### Training the ANN on the Training set"
      ]
    },
    {
      "cell_type": "code",
      "metadata": {
        "id": "4PpDj9FpFUNp",
        "colab_type": "code",
        "colab": {
          "base_uri": "https://localhost:8080/",
          "height": 1000
        },
        "outputId": "1005bc50-fb1a-4c96-9dcb-a5fee351d5a5"
      },
      "source": [
        "ann.fit(X_train, y_train, batch_size=32, epochs=100)"
      ],
      "execution_count": 66,
      "outputs": [
        {
          "output_type": "stream",
          "text": [
            "Epoch 1/100\n",
            "250/250 [==============================] - 0s 1ms/step - loss: 0.5054 - accuracy: 0.7960\n",
            "Epoch 2/100\n",
            "250/250 [==============================] - 0s 1ms/step - loss: 0.4662 - accuracy: 0.7960\n",
            "Epoch 3/100\n",
            "250/250 [==============================] - 0s 1ms/step - loss: 0.4506 - accuracy: 0.7960\n",
            "Epoch 4/100\n",
            "250/250 [==============================] - 0s 1ms/step - loss: 0.4412 - accuracy: 0.7960\n",
            "Epoch 5/100\n",
            "250/250 [==============================] - 0s 1ms/step - loss: 0.4352 - accuracy: 0.7962\n",
            "Epoch 6/100\n",
            "250/250 [==============================] - 0s 1ms/step - loss: 0.4315 - accuracy: 0.8008\n",
            "Epoch 7/100\n",
            "250/250 [==============================] - 0s 1ms/step - loss: 0.4288 - accuracy: 0.8056\n",
            "Epoch 8/100\n",
            "250/250 [==============================] - 0s 1ms/step - loss: 0.4265 - accuracy: 0.8076\n",
            "Epoch 9/100\n",
            "250/250 [==============================] - 0s 1ms/step - loss: 0.4243 - accuracy: 0.8098\n",
            "Epoch 10/100\n",
            "250/250 [==============================] - 0s 1ms/step - loss: 0.4217 - accuracy: 0.8134\n",
            "Epoch 11/100\n",
            "250/250 [==============================] - 0s 1ms/step - loss: 0.4189 - accuracy: 0.8175\n",
            "Epoch 12/100\n",
            "250/250 [==============================] - 0s 1ms/step - loss: 0.4162 - accuracy: 0.8207\n",
            "Epoch 13/100\n",
            "250/250 [==============================] - 0s 1ms/step - loss: 0.4123 - accuracy: 0.8219\n",
            "Epoch 14/100\n",
            "250/250 [==============================] - 0s 1ms/step - loss: 0.4085 - accuracy: 0.8255\n",
            "Epoch 15/100\n",
            "250/250 [==============================] - 0s 950us/step - loss: 0.4044 - accuracy: 0.8274\n",
            "Epoch 16/100\n",
            "250/250 [==============================] - 0s 895us/step - loss: 0.4008 - accuracy: 0.8278\n",
            "Epoch 17/100\n",
            "250/250 [==============================] - 0s 913us/step - loss: 0.3969 - accuracy: 0.8298\n",
            "Epoch 18/100\n",
            "250/250 [==============================] - 0s 915us/step - loss: 0.3931 - accuracy: 0.8294\n",
            "Epoch 19/100\n",
            "250/250 [==============================] - 0s 907us/step - loss: 0.3905 - accuracy: 0.8289\n",
            "Epoch 20/100\n",
            "250/250 [==============================] - 0s 932us/step - loss: 0.3873 - accuracy: 0.8313\n",
            "Epoch 21/100\n",
            "250/250 [==============================] - 0s 921us/step - loss: 0.3847 - accuracy: 0.8363\n",
            "Epoch 22/100\n",
            "250/250 [==============================] - 0s 888us/step - loss: 0.3824 - accuracy: 0.8360\n",
            "Epoch 23/100\n",
            "250/250 [==============================] - 0s 902us/step - loss: 0.3798 - accuracy: 0.8391\n",
            "Epoch 24/100\n",
            "250/250 [==============================] - 0s 923us/step - loss: 0.3782 - accuracy: 0.8405\n",
            "Epoch 25/100\n",
            "250/250 [==============================] - 0s 889us/step - loss: 0.3760 - accuracy: 0.8432\n",
            "Epoch 26/100\n",
            "250/250 [==============================] - 0s 920us/step - loss: 0.3744 - accuracy: 0.8439\n",
            "Epoch 27/100\n",
            "250/250 [==============================] - 0s 880us/step - loss: 0.3730 - accuracy: 0.8447\n",
            "Epoch 28/100\n",
            "250/250 [==============================] - 0s 901us/step - loss: 0.3715 - accuracy: 0.8462\n",
            "Epoch 29/100\n",
            "250/250 [==============================] - 0s 931us/step - loss: 0.3700 - accuracy: 0.8471\n",
            "Epoch 30/100\n",
            "250/250 [==============================] - 0s 927us/step - loss: 0.3689 - accuracy: 0.8486\n",
            "Epoch 31/100\n",
            "250/250 [==============================] - 0s 911us/step - loss: 0.3675 - accuracy: 0.8480\n",
            "Epoch 32/100\n",
            "250/250 [==============================] - 0s 898us/step - loss: 0.3664 - accuracy: 0.8474\n",
            "Epoch 33/100\n",
            "250/250 [==============================] - 0s 986us/step - loss: 0.3650 - accuracy: 0.8514\n",
            "Epoch 34/100\n",
            "250/250 [==============================] - 0s 888us/step - loss: 0.3637 - accuracy: 0.8519\n",
            "Epoch 35/100\n",
            "250/250 [==============================] - 0s 922us/step - loss: 0.3631 - accuracy: 0.8514\n",
            "Epoch 36/100\n",
            "250/250 [==============================] - 0s 914us/step - loss: 0.3614 - accuracy: 0.8519\n",
            "Epoch 37/100\n",
            "250/250 [==============================] - 0s 918us/step - loss: 0.3610 - accuracy: 0.8546\n",
            "Epoch 38/100\n",
            "250/250 [==============================] - 0s 913us/step - loss: 0.3600 - accuracy: 0.8540\n",
            "Epoch 39/100\n",
            "250/250 [==============================] - 0s 894us/step - loss: 0.3595 - accuracy: 0.8539\n",
            "Epoch 40/100\n",
            "250/250 [==============================] - 0s 916us/step - loss: 0.3582 - accuracy: 0.8551\n",
            "Epoch 41/100\n",
            "250/250 [==============================] - 0s 945us/step - loss: 0.3578 - accuracy: 0.8521\n",
            "Epoch 42/100\n",
            "250/250 [==============================] - 0s 923us/step - loss: 0.3569 - accuracy: 0.8533\n",
            "Epoch 43/100\n",
            "250/250 [==============================] - 0s 878us/step - loss: 0.3567 - accuracy: 0.8530\n",
            "Epoch 44/100\n",
            "250/250 [==============================] - 0s 924us/step - loss: 0.3554 - accuracy: 0.8534\n",
            "Epoch 45/100\n",
            "250/250 [==============================] - 0s 963us/step - loss: 0.3549 - accuracy: 0.8550\n",
            "Epoch 46/100\n",
            "250/250 [==============================] - 0s 1ms/step - loss: 0.3536 - accuracy: 0.8545\n",
            "Epoch 47/100\n",
            "250/250 [==============================] - 0s 908us/step - loss: 0.3537 - accuracy: 0.8568\n",
            "Epoch 48/100\n",
            "250/250 [==============================] - 0s 878us/step - loss: 0.3529 - accuracy: 0.8562\n",
            "Epoch 49/100\n",
            "250/250 [==============================] - 0s 907us/step - loss: 0.3522 - accuracy: 0.8569\n",
            "Epoch 50/100\n",
            "250/250 [==============================] - 0s 914us/step - loss: 0.3519 - accuracy: 0.8561\n",
            "Epoch 51/100\n",
            "250/250 [==============================] - 0s 928us/step - loss: 0.3513 - accuracy: 0.8565\n",
            "Epoch 52/100\n",
            "250/250 [==============================] - 0s 882us/step - loss: 0.3505 - accuracy: 0.8585\n",
            "Epoch 53/100\n",
            "250/250 [==============================] - 0s 918us/step - loss: 0.3500 - accuracy: 0.8581\n",
            "Epoch 54/100\n",
            "250/250 [==============================] - 0s 926us/step - loss: 0.3500 - accuracy: 0.8572\n",
            "Epoch 55/100\n",
            "250/250 [==============================] - 0s 887us/step - loss: 0.3489 - accuracy: 0.8571\n",
            "Epoch 56/100\n",
            "250/250 [==============================] - 0s 906us/step - loss: 0.3491 - accuracy: 0.8556\n",
            "Epoch 57/100\n",
            "250/250 [==============================] - 0s 866us/step - loss: 0.3481 - accuracy: 0.8585\n",
            "Epoch 58/100\n",
            "250/250 [==============================] - 0s 889us/step - loss: 0.3481 - accuracy: 0.8586\n",
            "Epoch 59/100\n",
            "250/250 [==============================] - 0s 962us/step - loss: 0.3473 - accuracy: 0.8589\n",
            "Epoch 60/100\n",
            "250/250 [==============================] - 0s 915us/step - loss: 0.3470 - accuracy: 0.8577\n",
            "Epoch 61/100\n",
            "250/250 [==============================] - 0s 876us/step - loss: 0.3462 - accuracy: 0.8580\n",
            "Epoch 62/100\n",
            "250/250 [==============================] - 0s 933us/step - loss: 0.3467 - accuracy: 0.8585\n",
            "Epoch 63/100\n",
            "250/250 [==============================] - 0s 933us/step - loss: 0.3452 - accuracy: 0.8595\n",
            "Epoch 64/100\n",
            "250/250 [==============================] - 0s 944us/step - loss: 0.3453 - accuracy: 0.8587\n",
            "Epoch 65/100\n",
            "250/250 [==============================] - 0s 932us/step - loss: 0.3444 - accuracy: 0.8605\n",
            "Epoch 66/100\n",
            "250/250 [==============================] - 0s 906us/step - loss: 0.3448 - accuracy: 0.8596\n",
            "Epoch 67/100\n",
            "250/250 [==============================] - 0s 941us/step - loss: 0.3441 - accuracy: 0.8609\n",
            "Epoch 68/100\n",
            "250/250 [==============================] - 0s 917us/step - loss: 0.3430 - accuracy: 0.8604\n",
            "Epoch 69/100\n",
            "250/250 [==============================] - 0s 903us/step - loss: 0.3434 - accuracy: 0.8612\n",
            "Epoch 70/100\n",
            "250/250 [==============================] - 0s 905us/step - loss: 0.3429 - accuracy: 0.8599\n",
            "Epoch 71/100\n",
            "250/250 [==============================] - 0s 922us/step - loss: 0.3428 - accuracy: 0.8624\n",
            "Epoch 72/100\n",
            "250/250 [==============================] - 0s 908us/step - loss: 0.3424 - accuracy: 0.8616\n",
            "Epoch 73/100\n",
            "250/250 [==============================] - 0s 914us/step - loss: 0.3416 - accuracy: 0.8604\n",
            "Epoch 74/100\n",
            "250/250 [==============================] - 0s 905us/step - loss: 0.3416 - accuracy: 0.8599\n",
            "Epoch 75/100\n",
            "250/250 [==============================] - 0s 882us/step - loss: 0.3418 - accuracy: 0.8615\n",
            "Epoch 76/100\n",
            "250/250 [==============================] - 0s 947us/step - loss: 0.3417 - accuracy: 0.8599\n",
            "Epoch 77/100\n",
            "250/250 [==============================] - 0s 939us/step - loss: 0.3412 - accuracy: 0.8625\n",
            "Epoch 78/100\n",
            "250/250 [==============================] - 0s 877us/step - loss: 0.3403 - accuracy: 0.8625\n",
            "Epoch 79/100\n",
            "250/250 [==============================] - 0s 910us/step - loss: 0.3406 - accuracy: 0.8602\n",
            "Epoch 80/100\n",
            "250/250 [==============================] - 0s 927us/step - loss: 0.3398 - accuracy: 0.8608\n",
            "Epoch 81/100\n",
            "250/250 [==============================] - 0s 941us/step - loss: 0.3400 - accuracy: 0.8612\n",
            "Epoch 82/100\n",
            "250/250 [==============================] - 0s 902us/step - loss: 0.3397 - accuracy: 0.8615\n",
            "Epoch 83/100\n",
            "250/250 [==============================] - 0s 945us/step - loss: 0.3395 - accuracy: 0.8622\n",
            "Epoch 84/100\n",
            "250/250 [==============================] - 0s 961us/step - loss: 0.3398 - accuracy: 0.8605\n",
            "Epoch 85/100\n",
            "250/250 [==============================] - 0s 932us/step - loss: 0.3394 - accuracy: 0.8634\n",
            "Epoch 86/100\n",
            "250/250 [==============================] - 0s 878us/step - loss: 0.3394 - accuracy: 0.8616\n",
            "Epoch 87/100\n",
            "250/250 [==============================] - 0s 915us/step - loss: 0.3393 - accuracy: 0.8602\n",
            "Epoch 88/100\n",
            "250/250 [==============================] - 0s 915us/step - loss: 0.3386 - accuracy: 0.8612\n",
            "Epoch 89/100\n",
            "250/250 [==============================] - 0s 937us/step - loss: 0.3384 - accuracy: 0.8627\n",
            "Epoch 90/100\n",
            "250/250 [==============================] - 0s 887us/step - loss: 0.3382 - accuracy: 0.8625\n",
            "Epoch 91/100\n",
            "250/250 [==============================] - 0s 914us/step - loss: 0.3380 - accuracy: 0.8612\n",
            "Epoch 92/100\n",
            "250/250 [==============================] - 0s 908us/step - loss: 0.3383 - accuracy: 0.8595\n",
            "Epoch 93/100\n",
            "250/250 [==============================] - 0s 1ms/step - loss: 0.3375 - accuracy: 0.8627\n",
            "Epoch 94/100\n",
            "250/250 [==============================] - 0s 924us/step - loss: 0.3372 - accuracy: 0.8621\n",
            "Epoch 95/100\n",
            "250/250 [==============================] - 0s 926us/step - loss: 0.3373 - accuracy: 0.8619\n",
            "Epoch 96/100\n",
            "250/250 [==============================] - 0s 940us/step - loss: 0.3378 - accuracy: 0.8612\n",
            "Epoch 97/100\n",
            "250/250 [==============================] - 0s 936us/step - loss: 0.3378 - accuracy: 0.8609\n",
            "Epoch 98/100\n",
            "250/250 [==============================] - 0s 959us/step - loss: 0.3370 - accuracy: 0.8621\n",
            "Epoch 99/100\n",
            "250/250 [==============================] - 0s 901us/step - loss: 0.3370 - accuracy: 0.8622\n",
            "Epoch 100/100\n",
            "250/250 [==============================] - 0s 906us/step - loss: 0.3371 - accuracy: 0.8615\n"
          ],
          "name": "stdout"
        },
        {
          "output_type": "execute_result",
          "data": {
            "text/plain": [
              "<tensorflow.python.keras.callbacks.History at 0x7fc29ee5aa90>"
            ]
          },
          "metadata": {
            "tags": []
          },
          "execution_count": 66
        }
      ]
    },
    {
      "cell_type": "code",
      "metadata": {
        "id": "FRaIFCyKMc-N",
        "colab_type": "code",
        "colab": {
          "base_uri": "https://localhost:8080/",
          "height": 33
        },
        "outputId": "f49d8b4a-046f-478d-f4a8-e4674b973833"
      },
      "source": [
        "y_train.shape"
      ],
      "execution_count": 67,
      "outputs": [
        {
          "output_type": "execute_result",
          "data": {
            "text/plain": [
              "(8000,)"
            ]
          },
          "metadata": {
            "tags": []
          },
          "execution_count": 67
        }
      ]
    },
    {
      "cell_type": "markdown",
      "metadata": {
        "id": "tJj5k2MxZga3",
        "colab_type": "text"
      },
      "source": [
        "## Part 4 - Making the predictions and evaluating the model"
      ]
    },
    {
      "cell_type": "markdown",
      "metadata": {
        "id": "84QFoqGYeXHL",
        "colab_type": "text"
      },
      "source": [
        "### Predicting the result of a single observation"
      ]
    },
    {
      "cell_type": "markdown",
      "metadata": {
        "id": "CGRo3eacgDdC",
        "colab_type": "text"
      },
      "source": [
        "**Homework**\n",
        "\n",
        "Use our ANN model to predict if the customer with the following informations will leave the bank: \n",
        "\n",
        "Geography: France\n",
        "\n",
        "Credit Score: 600\n",
        "\n",
        "Gender: Male\n",
        "\n",
        "Age: 40 years old\n",
        "\n",
        "Tenure: 3 years\n",
        "\n",
        "Balance: \\$ 60000\n",
        "\n",
        "Number of Products: 2\n",
        "\n",
        "Does this customer have a credit card ? Yes\n",
        "\n",
        "Is this customer an Active Member: Yes\n",
        "\n",
        "Estimated Salary: \\$ 50000\n",
        "\n",
        "So, should we say goodbye to that customer ?"
      ]
    },
    {
      "cell_type": "markdown",
      "metadata": {
        "id": "ZhU1LTgPg-kH",
        "colab_type": "text"
      },
      "source": [
        "**Solution**"
      ]
    },
    {
      "cell_type": "code",
      "metadata": {
        "id": "2d8IoCCkeWGL",
        "colab_type": "code",
        "colab": {
          "base_uri": "https://localhost:8080/",
          "height": 33
        },
        "outputId": "13763d9e-b92c-4ba6-dd26-ba2a1b3142a8"
      },
      "source": [
        "print(ann.predict(sc.transform([[1, 0, 0, 600, 1, 40, 3, 60000, 2, 1, 1, 50000]])) > 0.5)"
      ],
      "execution_count": 68,
      "outputs": [
        {
          "output_type": "stream",
          "text": [
            "[[False]]\n"
          ],
          "name": "stdout"
        }
      ]
    },
    {
      "cell_type": "markdown",
      "metadata": {
        "id": "wGjx94g2n7OV",
        "colab_type": "text"
      },
      "source": [
        "Therefore, our ANN model predicts that this customer stays in the bank!\n",
        "\n",
        "**Important note 1:** Notice that the values of the features were all input in a double pair of square brackets. That's because the \"predict\" method always expects a 2D array as the format of its inputs. And putting our values into a double pair of square brackets makes the input exactly a 2D array.\n",
        "\n",
        "**Important note 2:** Notice also that the \"France\" country was not input as a string in the last column but as \"1, 0, 0\" in the first three columns. That's because of course the predict method expects the one-hot-encoded values of the state, and as we see in the first row of the matrix of features X, \"France\" was encoded as \"1, 0, 0\". And be careful to include these values in the first three columns, because the dummy variables are always created in the first columns."
      ]
    },
    {
      "cell_type": "markdown",
      "metadata": {
        "id": "u7yx47jPZt11",
        "colab_type": "text"
      },
      "source": [
        "### Predicting the Test set results"
      ]
    },
    {
      "cell_type": "code",
      "metadata": {
        "id": "aGS0h4W_JFoq",
        "colab_type": "code",
        "colab": {
          "base_uri": "https://localhost:8080/",
          "height": 131
        },
        "outputId": "9c639154-c3ab-4a7e-f98f-398cb174bce8"
      },
      "source": [
        "y_pred = ann.predict(X_test)\n",
        "y_pred = (y_pred>0.5)\n",
        "#y_pred.shape\n",
        "print(np.concatenate((y_pred.reshape(len(y_pred),1), y_test.reshape(len(y_test),1)), 1 ))"
      ],
      "execution_count": 69,
      "outputs": [
        {
          "output_type": "stream",
          "text": [
            "[[0 0]\n",
            " [0 1]\n",
            " [0 0]\n",
            " ...\n",
            " [0 0]\n",
            " [0 0]\n",
            " [0 0]]\n"
          ],
          "name": "stdout"
        }
      ]
    },
    {
      "cell_type": "markdown",
      "metadata": {
        "id": "o0oyfLWoaEGw",
        "colab_type": "text"
      },
      "source": [
        "### Making the Confusion Matrix"
      ]
    },
    {
      "cell_type": "code",
      "metadata": {
        "id": "3VfHuDLmJGc2",
        "colab_type": "code",
        "colab": {
          "base_uri": "https://localhost:8080/",
          "height": 66
        },
        "outputId": "2034dca7-3be6-48c5-ccff-f50f3c553cf4"
      },
      "source": [
        "from sklearn.metrics import confusion_matrix, accuracy_score\n",
        "cm = confusion_matrix(y_test, y_pred)\n",
        "print(cm)\n",
        "accuracy_score(y_test, y_pred)\n"
      ],
      "execution_count": 70,
      "outputs": [
        {
          "output_type": "stream",
          "text": [
            "[[1497   98]\n",
            " [ 185  220]]\n"
          ],
          "name": "stdout"
        },
        {
          "output_type": "execute_result",
          "data": {
            "text/plain": [
              "0.8585"
            ]
          },
          "metadata": {
            "tags": []
          },
          "execution_count": 70
        }
      ]
    },
    {
      "cell_type": "code",
      "metadata": {
        "id": "CB5s1mbrN9X7",
        "colab_type": "code",
        "colab": {}
      },
      "source": [
        ""
      ],
      "execution_count": 70,
      "outputs": []
    }
  ]
}